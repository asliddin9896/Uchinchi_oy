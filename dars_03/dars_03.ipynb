{
 "cells": [
  {
   "cell_type": "code",
   "execution_count": 13,
   "id": "939f3d89",
   "metadata": {},
   "outputs": [],
   "source": [
    "import pandas as pd \n",
    "data_set=pd.read_csv('StressLevelDataset.csv')"
   ]
  },
  {
   "cell_type": "code",
   "execution_count": 14,
   "metadata": {},
   "outputs": [
    {
     "data": {
      "text/html": [
       "<div>\n",
       "<style scoped>\n",
       "    .dataframe tbody tr th:only-of-type {\n",
       "        vertical-align: middle;\n",
       "    }\n",
       "\n",
       "    .dataframe tbody tr th {\n",
       "        vertical-align: top;\n",
       "    }\n",
       "\n",
       "    .dataframe thead th {\n",
       "        text-align: right;\n",
       "    }\n",
       "</style>\n",
       "<table border=\"1\" class=\"dataframe\">\n",
       "  <thead>\n",
       "    <tr style=\"text-align: right;\">\n",
       "      <th></th>\n",
       "      <th>anxiety_level</th>\n",
       "      <th>self_esteem</th>\n",
       "      <th>mental_health_history</th>\n",
       "      <th>depression</th>\n",
       "      <th>headache</th>\n",
       "      <th>blood_pressure</th>\n",
       "      <th>sleep_quality</th>\n",
       "      <th>breathing_problem</th>\n",
       "      <th>noise_level</th>\n",
       "      <th>living_conditions</th>\n",
       "      <th>...</th>\n",
       "      <th>basic_needs</th>\n",
       "      <th>academic_performance</th>\n",
       "      <th>study_load</th>\n",
       "      <th>teacher_student_relationship</th>\n",
       "      <th>future_career_concerns</th>\n",
       "      <th>social_support</th>\n",
       "      <th>peer_pressure</th>\n",
       "      <th>extracurricular_activities</th>\n",
       "      <th>bullying</th>\n",
       "      <th>stress_level</th>\n",
       "    </tr>\n",
       "  </thead>\n",
       "  <tbody>\n",
       "    <tr>\n",
       "      <th>0</th>\n",
       "      <td>14</td>\n",
       "      <td>20</td>\n",
       "      <td>0</td>\n",
       "      <td>11</td>\n",
       "      <td>2</td>\n",
       "      <td>1</td>\n",
       "      <td>2</td>\n",
       "      <td>4</td>\n",
       "      <td>2</td>\n",
       "      <td>3</td>\n",
       "      <td>...</td>\n",
       "      <td>2</td>\n",
       "      <td>3</td>\n",
       "      <td>2</td>\n",
       "      <td>3</td>\n",
       "      <td>3</td>\n",
       "      <td>2.0</td>\n",
       "      <td>3.0</td>\n",
       "      <td>3</td>\n",
       "      <td>2</td>\n",
       "      <td>1</td>\n",
       "    </tr>\n",
       "    <tr>\n",
       "      <th>1</th>\n",
       "      <td>15</td>\n",
       "      <td>8</td>\n",
       "      <td>1</td>\n",
       "      <td>15</td>\n",
       "      <td>5</td>\n",
       "      <td>3</td>\n",
       "      <td>1</td>\n",
       "      <td>4</td>\n",
       "      <td>3</td>\n",
       "      <td>1</td>\n",
       "      <td>...</td>\n",
       "      <td>2</td>\n",
       "      <td>1</td>\n",
       "      <td>4</td>\n",
       "      <td>1</td>\n",
       "      <td>5</td>\n",
       "      <td>1.0</td>\n",
       "      <td>4.0</td>\n",
       "      <td>5</td>\n",
       "      <td>5</td>\n",
       "      <td>2</td>\n",
       "    </tr>\n",
       "    <tr>\n",
       "      <th>2</th>\n",
       "      <td>12</td>\n",
       "      <td>18</td>\n",
       "      <td>1</td>\n",
       "      <td>14</td>\n",
       "      <td>2</td>\n",
       "      <td>1</td>\n",
       "      <td>2</td>\n",
       "      <td>2</td>\n",
       "      <td>2</td>\n",
       "      <td>2</td>\n",
       "      <td>...</td>\n",
       "      <td>2</td>\n",
       "      <td>2</td>\n",
       "      <td>3</td>\n",
       "      <td>3</td>\n",
       "      <td>2</td>\n",
       "      <td>2.0</td>\n",
       "      <td>3.0</td>\n",
       "      <td>2</td>\n",
       "      <td>2</td>\n",
       "      <td>1</td>\n",
       "    </tr>\n",
       "    <tr>\n",
       "      <th>3</th>\n",
       "      <td>16</td>\n",
       "      <td>12</td>\n",
       "      <td>1</td>\n",
       "      <td>15</td>\n",
       "      <td>4</td>\n",
       "      <td>3</td>\n",
       "      <td>1</td>\n",
       "      <td>3</td>\n",
       "      <td>4</td>\n",
       "      <td>2</td>\n",
       "      <td>...</td>\n",
       "      <td>2</td>\n",
       "      <td>2</td>\n",
       "      <td>4</td>\n",
       "      <td>1</td>\n",
       "      <td>4</td>\n",
       "      <td>1.0</td>\n",
       "      <td>4.0</td>\n",
       "      <td>4</td>\n",
       "      <td>5</td>\n",
       "      <td>2</td>\n",
       "    </tr>\n",
       "    <tr>\n",
       "      <th>4</th>\n",
       "      <td>16</td>\n",
       "      <td>28</td>\n",
       "      <td>0</td>\n",
       "      <td>7</td>\n",
       "      <td>2</td>\n",
       "      <td>3</td>\n",
       "      <td>5</td>\n",
       "      <td>1</td>\n",
       "      <td>3</td>\n",
       "      <td>2</td>\n",
       "      <td>...</td>\n",
       "      <td>3</td>\n",
       "      <td>4</td>\n",
       "      <td>3</td>\n",
       "      <td>1</td>\n",
       "      <td>2</td>\n",
       "      <td>1.0</td>\n",
       "      <td>5.0</td>\n",
       "      <td>0</td>\n",
       "      <td>5</td>\n",
       "      <td>1</td>\n",
       "    </tr>\n",
       "  </tbody>\n",
       "</table>\n",
       "<p>5 rows × 21 columns</p>\n",
       "</div>"
      ],
      "text/plain": [
       "   anxiety_level  self_esteem  mental_health_history  depression  headache  \\\n",
       "0             14           20                      0          11         2   \n",
       "1             15            8                      1          15         5   \n",
       "2             12           18                      1          14         2   \n",
       "3             16           12                      1          15         4   \n",
       "4             16           28                      0           7         2   \n",
       "\n",
       "   blood_pressure  sleep_quality  breathing_problem  noise_level  \\\n",
       "0               1              2                  4            2   \n",
       "1               3              1                  4            3   \n",
       "2               1              2                  2            2   \n",
       "3               3              1                  3            4   \n",
       "4               3              5                  1            3   \n",
       "\n",
       "   living_conditions  ...  basic_needs  academic_performance  study_load  \\\n",
       "0                  3  ...            2                     3           2   \n",
       "1                  1  ...            2                     1           4   \n",
       "2                  2  ...            2                     2           3   \n",
       "3                  2  ...            2                     2           4   \n",
       "4                  2  ...            3                     4           3   \n",
       "\n",
       "   teacher_student_relationship  future_career_concerns  social_support  \\\n",
       "0                             3                       3             2.0   \n",
       "1                             1                       5             1.0   \n",
       "2                             3                       2             2.0   \n",
       "3                             1                       4             1.0   \n",
       "4                             1                       2             1.0   \n",
       "\n",
       "   peer_pressure  extracurricular_activities  bullying  stress_level  \n",
       "0            3.0                           3         2             1  \n",
       "1            4.0                           5         5             2  \n",
       "2            3.0                           2         2             1  \n",
       "3            4.0                           4         5             2  \n",
       "4            5.0                           0         5             1  \n",
       "\n",
       "[5 rows x 21 columns]"
      ]
     },
     "execution_count": 14,
     "metadata": {},
     "output_type": "execute_result"
    }
   ],
   "source": [
    "data_set.head()"
   ]
  },
  {
   "cell_type": "code",
   "execution_count": 15,
   "metadata": {},
   "outputs": [
    {
     "name": "stdout",
     "output_type": "stream",
     "text": [
      "<class 'pandas.core.frame.DataFrame'>\n",
      "RangeIndex: 1100 entries, 0 to 1099\n",
      "Data columns (total 21 columns):\n",
      " #   Column                        Non-Null Count  Dtype  \n",
      "---  ------                        --------------  -----  \n",
      " 0   anxiety_level                 1100 non-null   int64  \n",
      " 1   self_esteem                   1100 non-null   int64  \n",
      " 2   mental_health_history         1100 non-null   int64  \n",
      " 3   depression                    1100 non-null   int64  \n",
      " 4   headache                      1100 non-null   int64  \n",
      " 5   blood_pressure                1100 non-null   int64  \n",
      " 6   sleep_quality                 1100 non-null   int64  \n",
      " 7   breathing_problem             1100 non-null   int64  \n",
      " 8   noise_level                   1100 non-null   int64  \n",
      " 9   living_conditions             1100 non-null   int64  \n",
      " 10  safety                        1100 non-null   int64  \n",
      " 11  basic_needs                   1100 non-null   int64  \n",
      " 12  academic_performance          1100 non-null   int64  \n",
      " 13  study_load                    1100 non-null   int64  \n",
      " 14  teacher_student_relationship  1100 non-null   int64  \n",
      " 15  future_career_concerns        1100 non-null   int64  \n",
      " 16  social_support                1099 non-null   float64\n",
      " 17  peer_pressure                 1099 non-null   float64\n",
      " 18  extracurricular_activities    1100 non-null   int64  \n",
      " 19  bullying                      1100 non-null   int64  \n",
      " 20  stress_level                  1100 non-null   int64  \n",
      "dtypes: float64(2), int64(19)\n",
      "memory usage: 180.6 KB\n"
     ]
    }
   ],
   "source": [
    "data_set.info()"
   ]
  },
  {
   "cell_type": "code",
   "execution_count": 16,
   "metadata": {},
   "outputs": [],
   "source": [
    "for col in data_set.columns:\n",
    "    if data_set[col].isnull().any():\n",
    "        if data_set[col].dtype=='object':\n",
    "            data_set[col].fillna(data_set[col].mode()[0],inplace=True)\n",
    "        else:\n",
    "            data_set[col].fillna(data_set[col].mean(),inplace=True)"
   ]
  },
  {
   "cell_type": "code",
   "execution_count": 17,
   "id": "352c20c0",
   "metadata": {},
   "outputs": [],
   "source": [
    "cat_col=data_set.select_dtypes(exclude='number').columns"
   ]
  },
  {
   "cell_type": "code",
   "execution_count": 18,
   "id": "af6ea0a8",
   "metadata": {},
   "outputs": [
    {
     "data": {
      "text/plain": [
       "Index([], dtype='object')"
      ]
     },
     "execution_count": 18,
     "metadata": {},
     "output_type": "execute_result"
    }
   ],
   "source": [
    "cat_col"
   ]
  },
  {
   "cell_type": "code",
   "execution_count": 19,
   "id": "fbfb1d14",
   "metadata": {},
   "outputs": [],
   "source": [
    "from sklearn.preprocessing import LabelEncoder\n",
    "encoder=LabelEncoder()"
   ]
  },
  {
   "cell_type": "code",
   "execution_count": 20,
   "id": "c1bbd5a3",
   "metadata": {},
   "outputs": [],
   "source": [
    "for col in cat_col:\n",
    "    if data_set[col].nunique() <= 5:\n",
    "        dummies = pd.get_dummies(data_set[col], prefix=col, dtype=int)\n",
    "        data_set = pd.concat([data_set.drop(col, axis=1), dummies], axis=1)\n",
    "    else:\n",
    "        data_set[col] = encoder.fit_transform(data_set[col])\n"
   ]
  },
  {
   "cell_type": "code",
   "execution_count": 21,
   "metadata": {},
   "outputs": [
    {
     "name": "stdout",
     "output_type": "stream",
     "text": [
      "<class 'pandas.core.frame.DataFrame'>\n",
      "RangeIndex: 1100 entries, 0 to 1099\n",
      "Data columns (total 21 columns):\n",
      " #   Column                        Non-Null Count  Dtype  \n",
      "---  ------                        --------------  -----  \n",
      " 0   anxiety_level                 1100 non-null   int64  \n",
      " 1   self_esteem                   1100 non-null   int64  \n",
      " 2   mental_health_history         1100 non-null   int64  \n",
      " 3   depression                    1100 non-null   int64  \n",
      " 4   headache                      1100 non-null   int64  \n",
      " 5   blood_pressure                1100 non-null   int64  \n",
      " 6   sleep_quality                 1100 non-null   int64  \n",
      " 7   breathing_problem             1100 non-null   int64  \n",
      " 8   noise_level                   1100 non-null   int64  \n",
      " 9   living_conditions             1100 non-null   int64  \n",
      " 10  safety                        1100 non-null   int64  \n",
      " 11  basic_needs                   1100 non-null   int64  \n",
      " 12  academic_performance          1100 non-null   int64  \n",
      " 13  study_load                    1100 non-null   int64  \n",
      " 14  teacher_student_relationship  1100 non-null   int64  \n",
      " 15  future_career_concerns        1100 non-null   int64  \n",
      " 16  social_support                1100 non-null   float64\n",
      " 17  peer_pressure                 1100 non-null   float64\n",
      " 18  extracurricular_activities    1100 non-null   int64  \n",
      " 19  bullying                      1100 non-null   int64  \n",
      " 20  stress_level                  1100 non-null   int64  \n",
      "dtypes: float64(2), int64(19)\n",
      "memory usage: 180.6 KB\n"
     ]
    }
   ],
   "source": [
    "data_set.info()"
   ]
  },
  {
   "cell_type": "code",
   "execution_count": 22,
   "id": "2ccbe6aa",
   "metadata": {},
   "outputs": [],
   "source": [
    "import seaborn as sns\n",
    "import matplotlib.pyplot as plt\n",
    "import numpy as np"
   ]
  },
  {
   "cell_type": "code",
   "execution_count": 40,
   "id": "3848157c",
   "metadata": {},
   "outputs": [],
   "source": [
    "def plot_feature_dic(data_set,features):\n",
    "    for feature in features:\n",
    "        plt.figure(figsize=(8,6))\n",
    "        sns.histplot(data_set[feature],kde=True)\n",
    "        plt.title('Feature Distribution')"
   ]
  },
  {
   "cell_type": "code",
   "execution_count": 43,
   "id": "f10553b0",
   "metadata": {},
   "outputs": [
    {
     "data": {
      "image/png": "[encoded data removed]",
      "text/plain": [
       "<Figure size 576x432 with 1 Axes>"
      ]
     },
     "metadata": {
      "needs_background": "light"
     },
     "output_type": "display_data"
    }
   ],
   "source": [
    "plot_feature_dic(data_set,['breathing_problem'])"
   ]
  },
  {
   "cell_type": "code",
   "execution_count": 44,
   "id": "15888626",
   "metadata": {},
   "outputs": [
    {
     "data": {
      "text/plain": [
       "0       0.890211\n",
       "1       0.890211\n",
       "2      -0.538282\n",
       "3       0.175964\n",
       "4      -1.252529\n",
       "          ...   \n",
       "1095   -0.538282\n",
       "1096   -1.966776\n",
       "1097   -0.538282\n",
       "1098    0.890211\n",
       "1099    0.175964\n",
       "Name: breathing_problem, Length: 1100, dtype: float64"
      ]
     },
     "execution_count": 44,
     "metadata": {},
     "output_type": "execute_result"
    }
   ],
   "source": [
    "data_set['breathing_problem']"
   ]
  },
  {
   "cell_type": "markdown",
   "id": "ae20a00d",
   "metadata": {},
   "source": [
    "# Skewness (og'ishni aniqlash) --> agar featurlar soni kam bolsa"
   ]
  },
  {
   "cell_type": "code",
   "execution_count": 45,
   "id": "09c372e2",
   "metadata": {},
   "outputs": [],
   "source": [
    "def tek_skew(data_set,features):\n",
    "    for feature in features:\n",
    "        skew=data_set[feature].skew()\n",
    "        print(f\"{feature}:skewness={skew:.2f}\")"
   ]
  },
  {
   "cell_type": "code",
   "execution_count": 46,
   "id": "eabaf9bb",
   "metadata": {},
   "outputs": [
    {
     "name": "stdout",
     "output_type": "stream",
     "text": [
      "breathing_problem:skewness=-0.00\n"
     ]
    }
   ],
   "source": [
    "tek_skew(data_set,['breathing_problem'])"
   ]
  },
  {
   "cell_type": "markdown",
   "id": "a82f19da",
   "metadata": {},
   "source": [
    "# Featurelar soni kop bolsa"
   ]
  },
  {
   "cell_type": "code",
   "execution_count": 47,
   "id": "9199dc70",
   "metadata": {},
   "outputs": [],
   "source": [
    "def tek_skew_kop(data_set):\n",
    "    for col in data_set.select_dtypes(include=\"number\").columns:\n",
    "        skew=data_set[col].skew()\n",
    "        print(f\"{col}: skewness:{skew:.2f}\")"
   ]
  },
  {
   "cell_type": "code",
   "execution_count": 48,
   "id": "2d00939e",
   "metadata": {},
   "outputs": [
    {
     "name": "stdout",
     "output_type": "stream",
     "text": [
      "anxiety_level: skewness:-0.08\n",
      "self_esteem: skewness:-0.40\n",
      "mental_health_history: skewness:0.03\n",
      "depression: skewness:0.22\n",
      "headache: skewness:0.27\n",
      "blood_pressure: skewness:-0.35\n",
      "sleep_quality: skewness:0.18\n",
      "breathing_problem: skewness:-0.00\n",
      "noise_level: skewness:0.21\n",
      "living_conditions: skewness:0.02\n",
      "safety: skewness:0.19\n",
      "basic_needs: skewness:0.14\n",
      "academic_performance: skewness:0.18\n",
      "study_load: skewness:0.23\n",
      "teacher_student_relationship: skewness:0.20\n",
      "future_career_concerns: skewness:0.20\n",
      "social_support: skewness:-0.18\n",
      "peer_pressure: skewness:0.20\n",
      "extracurricular_activities: skewness:0.14\n",
      "bullying: skewness:0.18\n",
      "stress_level: skewness:0.01\n"
     ]
    }
   ],
   "source": [
    "tek_skew_kop(data_set)"
   ]
  },
  {
   "cell_type": "code",
   "execution_count": null,
   "id": "773f4602",
   "metadata": {},
   "outputs": [],
   "source": []
  },
  {
   "cell_type": "code",
   "execution_count": null,
   "id": "a172cc29",
   "metadata": {},
   "outputs": [],
   "source": []
  },
  {
   "cell_type": "code",
   "execution_count": null,
   "id": "6eae5f40",
   "metadata": {},
   "outputs": [],
   "source": []
  },
  {
   "cell_type": "code",
   "execution_count": 24,
   "id": "0988436b",
   "metadata": {},
   "outputs": [],
   "source": [
    "from sklearn.preprocessing import StandardScaler\n",
    "scaler=StandardScaler()"
   ]
  },
  {
   "cell_type": "code",
   "execution_count": 25,
   "id": "67f352ba",
   "metadata": {},
   "outputs": [],
   "source": [
    "for col in data_set.columns:\n",
    "    if col!='stress_level':\n",
    "        data_set[col]=scaler.fit_transform(data_set[[col]])"
   ]
  },
  {
   "cell_type": "code",
   "execution_count": 26,
   "id": "ed2610d3",
   "metadata": {},
   "outputs": [
    {
     "data": {
      "text/html": [
       "<div>\n",
       "<style scoped>\n",
       "    .dataframe tbody tr th:only-of-type {\n",
       "        vertical-align: middle;\n",
       "    }\n",
       "\n",
       "    .dataframe tbody tr th {\n",
       "        vertical-align: top;\n",
       "    }\n",
       "\n",
       "    .dataframe thead th {\n",
       "        text-align: right;\n",
       "    }\n",
       "</style>\n",
       "<table border=\"1\" class=\"dataframe\">\n",
       "  <thead>\n",
       "    <tr style=\"text-align: right;\">\n",
       "      <th></th>\n",
       "      <th>anxiety_level</th>\n",
       "      <th>self_esteem</th>\n",
       "      <th>mental_health_history</th>\n",
       "      <th>depression</th>\n",
       "      <th>headache</th>\n",
       "      <th>blood_pressure</th>\n",
       "      <th>sleep_quality</th>\n",
       "      <th>breathing_problem</th>\n",
       "      <th>noise_level</th>\n",
       "      <th>living_conditions</th>\n",
       "      <th>...</th>\n",
       "      <th>basic_needs</th>\n",
       "      <th>academic_performance</th>\n",
       "      <th>study_load</th>\n",
       "      <th>teacher_student_relationship</th>\n",
       "      <th>future_career_concerns</th>\n",
       "      <th>social_support</th>\n",
       "      <th>peer_pressure</th>\n",
       "      <th>extracurricular_activities</th>\n",
       "      <th>bullying</th>\n",
       "      <th>stress_level</th>\n",
       "    </tr>\n",
       "  </thead>\n",
       "  <tbody>\n",
       "    <tr>\n",
       "      <th>0</th>\n",
       "      <td>0.480208</td>\n",
       "      <td>0.248612</td>\n",
       "      <td>-0.985559</td>\n",
       "      <td>-0.201393</td>\n",
       "      <td>-0.360741</td>\n",
       "      <td>-1.418416</td>\n",
       "      <td>-0.426445</td>\n",
       "      <td>0.890211</td>\n",
       "      <td>-0.488949</td>\n",
       "      <td>0.430695</td>\n",
       "      <td>...</td>\n",
       "      <td>-0.539196</td>\n",
       "      <td>0.160736</td>\n",
       "      <td>-0.472800</td>\n",
       "      <td>0.254213</td>\n",
       "      <td>0.229550</td>\n",
       "      <td>0.113869</td>\n",
       "      <td>0.187997</td>\n",
       "      <td>0.164249</td>\n",
       "      <td>-0.403377</td>\n",
       "      <td>1</td>\n",
       "    </tr>\n",
       "    <tr>\n",
       "      <th>1</th>\n",
       "      <td>0.643746</td>\n",
       "      <td>-1.093590</td>\n",
       "      <td>1.014653</td>\n",
       "      <td>0.316508</td>\n",
       "      <td>1.768859</td>\n",
       "      <td>0.981981</td>\n",
       "      <td>-1.072574</td>\n",
       "      <td>0.890211</td>\n",
       "      <td>0.264334</td>\n",
       "      <td>-1.357096</td>\n",
       "      <td>...</td>\n",
       "      <td>-0.539196</td>\n",
       "      <td>-1.253741</td>\n",
       "      <td>1.047901</td>\n",
       "      <td>-1.190927</td>\n",
       "      <td>1.537869</td>\n",
       "      <td>-0.841417</td>\n",
       "      <td>0.890749</td>\n",
       "      <td>1.575763</td>\n",
       "      <td>1.557071</td>\n",
       "      <td>2</td>\n",
       "    </tr>\n",
       "    <tr>\n",
       "      <th>2</th>\n",
       "      <td>0.153131</td>\n",
       "      <td>0.024912</td>\n",
       "      <td>1.014653</td>\n",
       "      <td>0.187033</td>\n",
       "      <td>-0.360741</td>\n",
       "      <td>-1.418416</td>\n",
       "      <td>-0.426445</td>\n",
       "      <td>-0.538282</td>\n",
       "      <td>-0.488949</td>\n",
       "      <td>-0.463200</td>\n",
       "      <td>...</td>\n",
       "      <td>-0.539196</td>\n",
       "      <td>-0.546502</td>\n",
       "      <td>0.287551</td>\n",
       "      <td>0.254213</td>\n",
       "      <td>-0.424609</td>\n",
       "      <td>0.113869</td>\n",
       "      <td>0.187997</td>\n",
       "      <td>-0.541508</td>\n",
       "      <td>-0.403377</td>\n",
       "      <td>1</td>\n",
       "    </tr>\n",
       "    <tr>\n",
       "      <th>3</th>\n",
       "      <td>0.807284</td>\n",
       "      <td>-0.646189</td>\n",
       "      <td>1.014653</td>\n",
       "      <td>0.316508</td>\n",
       "      <td>1.058992</td>\n",
       "      <td>0.981981</td>\n",
       "      <td>-1.072574</td>\n",
       "      <td>0.175964</td>\n",
       "      <td>1.017616</td>\n",
       "      <td>-0.463200</td>\n",
       "      <td>...</td>\n",
       "      <td>-0.539196</td>\n",
       "      <td>-0.546502</td>\n",
       "      <td>1.047901</td>\n",
       "      <td>-1.190927</td>\n",
       "      <td>0.883709</td>\n",
       "      <td>-0.841417</td>\n",
       "      <td>0.890749</td>\n",
       "      <td>0.870006</td>\n",
       "      <td>1.557071</td>\n",
       "      <td>2</td>\n",
       "    </tr>\n",
       "    <tr>\n",
       "      <th>4</th>\n",
       "      <td>0.807284</td>\n",
       "      <td>1.143414</td>\n",
       "      <td>-0.985559</td>\n",
       "      <td>-0.719293</td>\n",
       "      <td>-0.360741</td>\n",
       "      <td>0.981981</td>\n",
       "      <td>1.511942</td>\n",
       "      <td>-1.252529</td>\n",
       "      <td>0.264334</td>\n",
       "      <td>-0.463200</td>\n",
       "      <td>...</td>\n",
       "      <td>0.158587</td>\n",
       "      <td>0.867974</td>\n",
       "      <td>0.287551</td>\n",
       "      <td>-1.190927</td>\n",
       "      <td>-0.424609</td>\n",
       "      <td>-0.841417</td>\n",
       "      <td>1.593501</td>\n",
       "      <td>-1.953023</td>\n",
       "      <td>1.557071</td>\n",
       "      <td>1</td>\n",
       "    </tr>\n",
       "  </tbody>\n",
       "</table>\n",
       "<p>5 rows × 21 columns</p>\n",
       "</div>"
      ],
      "text/plain": [
       "   anxiety_level  self_esteem  mental_health_history  depression  headache  \\\n",
       "0       0.480208     0.248612              -0.985559   -0.201393 -0.360741   \n",
       "1       0.643746    -1.093590               1.014653    0.316508  1.768859   \n",
       "2       0.153131     0.024912               1.014653    0.187033 -0.360741   \n",
       "3       0.807284    -0.646189               1.014653    0.316508  1.058992   \n",
       "4       0.807284     1.143414              -0.985559   -0.719293 -0.360741   \n",
       "\n",
       "   blood_pressure  sleep_quality  breathing_problem  noise_level  \\\n",
       "0       -1.418416      -0.426445           0.890211    -0.488949   \n",
       "1        0.981981      -1.072574           0.890211     0.264334   \n",
       "2       -1.418416      -0.426445          -0.538282    -0.488949   \n",
       "3        0.981981      -1.072574           0.175964     1.017616   \n",
       "4        0.981981       1.511942          -1.252529     0.264334   \n",
       "\n",
       "   living_conditions  ...  basic_needs  academic_performance  study_load  \\\n",
       "0           0.430695  ...    -0.539196              0.160736   -0.472800   \n",
       "1          -1.357096  ...    -0.539196             -1.253741    1.047901   \n",
       "2          -0.463200  ...    -0.539196             -0.546502    0.287551   \n",
       "3          -0.463200  ...    -0.539196             -0.546502    1.047901   \n",
       "4          -0.463200  ...     0.158587              0.867974    0.287551   \n",
       "\n",
       "   teacher_student_relationship  future_career_concerns  social_support  \\\n",
       "0                      0.254213                0.229550        0.113869   \n",
       "1                     -1.190927                1.537869       -0.841417   \n",
       "2                      0.254213               -0.424609        0.113869   \n",
       "3                     -1.190927                0.883709       -0.841417   \n",
       "4                     -1.190927               -0.424609       -0.841417   \n",
       "\n",
       "   peer_pressure  extracurricular_activities  bullying  stress_level  \n",
       "0       0.187997                    0.164249 -0.403377             1  \n",
       "1       0.890749                    1.575763  1.557071             2  \n",
       "2       0.187997                   -0.541508 -0.403377             1  \n",
       "3       0.890749                    0.870006  1.557071             2  \n",
       "4       1.593501                   -1.953023  1.557071             1  \n",
       "\n",
       "[5 rows x 21 columns]"
      ]
     },
     "execution_count": 26,
     "metadata": {},
     "output_type": "execute_result"
    }
   ],
   "source": [
    "data_set.head()"
   ]
  },
  {
   "cell_type": "code",
   "execution_count": 27,
   "id": "f1da0838",
   "metadata": {},
   "outputs": [],
   "source": [
    "from sklearn.model_selection import train_test_split"
   ]
  },
  {
   "cell_type": "code",
   "execution_count": 28,
   "id": "f3e15dfb",
   "metadata": {},
   "outputs": [],
   "source": [
    "x=data_set.drop('stress_level',axis=1)"
   ]
  },
  {
   "cell_type": "code",
   "execution_count": 29,
   "id": "eb7bb583",
   "metadata": {},
   "outputs": [],
   "source": [
    "y=data_set['stress_level']"
   ]
  },
  {
   "cell_type": "code",
   "execution_count": 30,
   "id": "489c39ce",
   "metadata": {},
   "outputs": [],
   "source": [
    "x_train,x_temp,y_train,y_temp=train_test_split(x,y,test_size=0.2,random_state=42)\n",
    "x_test,x_val,y_test,y_val=train_test_split(x_temp,y_temp,test_size=0.5,random_state=42)"
   ]
  },
  {
   "cell_type": "code",
   "execution_count": 31,
   "id": "aa515a5f",
   "metadata": {},
   "outputs": [],
   "source": [
    "from sklearn.linear_model import LogisticRegression\n",
    "model=LogisticRegression()"
   ]
  },
  {
   "cell_type": "code",
   "execution_count": 32,
   "id": "faff83af",
   "metadata": {},
   "outputs": [
    {
     "data": {
      "text/plain": [
       "LogisticRegression()"
      ]
     },
     "execution_count": 32,
     "metadata": {},
     "output_type": "execute_result"
    }
   ],
   "source": [
    "model.fit(x_train,y_train)"
   ]
  },
  {
   "cell_type": "code",
   "execution_count": 33,
   "id": "35a85765",
   "metadata": {},
   "outputs": [],
   "source": [
    "y_pred=model.predict(x_val)"
   ]
  },
  {
   "cell_type": "code",
   "execution_count": 34,
   "id": "b66d6048",
   "metadata": {},
   "outputs": [],
   "source": [
    "from sklearn.metrics import accuracy_score"
   ]
  },
  {
   "cell_type": "code",
   "execution_count": 35,
   "id": "7f2ab9fa",
   "metadata": {},
   "outputs": [],
   "source": [
    "from sklearn.metrics import accuracy_score"
   ]
  },
  {
   "cell_type": "code",
   "execution_count": 36,
   "id": "3f436e88",
   "metadata": {},
   "outputs": [
    {
     "ename": "NameError",
     "evalue": "name 'scor' is not defined",
     "output_type": "error",
     "traceback": [
      "\u001b[1;31m---------------------------------------------------------------------------\u001b[0m",
      "\u001b[1;31mNameError\u001b[0m                                 Traceback (most recent call last)",
      "\u001b[1;32m<ipython-input-36-f1ff34a1fed8>\u001b[0m in \u001b[0;36m<module>\u001b[1;34m\u001b[0m\n\u001b[1;32m----> 1\u001b[1;33m \u001b[0mscor\u001b[0m\u001b[1;33m\u001b[0m\u001b[1;33m\u001b[0m\u001b[0m\n\u001b[0m",
      "\u001b[1;31mNameError\u001b[0m: name 'scor' is not defined"
     ]
    }
   ],
   "source": [
    "scor"
   ]
  },
  {
   "cell_type": "code",
   "execution_count": null,
   "id": "5750111a",
   "metadata": {},
   "outputs": [],
   "source": []
  },
  {
   "cell_type": "code",
   "execution_count": null,
   "id": "a08c1c5a",
   "metadata": {},
   "outputs": [],
   "source": []
  },
  {
   "cell_type": "code",
   "execution_count": null,
   "id": "5b500015",
   "metadata": {},
   "outputs": [],
   "source": []
  }
 ],
 "metadata": {
  "kernelspec": {
   "display_name": "base",
   "language": "python",
   "name": "python3"
  },
  "language_info": {
   "codemirror_mode": {
    "name": "ipython",
    "version": 3
   },
   "file_extension": ".py",
   "mimetype": "text/x-python",
   "name": "python",
   "nbconvert_exporter": "python",
   "pygments_lexer": "ipython3",
   "version": "3.8.8"
  }
 },
 "nbformat": 4,
 "nbformat_minor": 5
}
